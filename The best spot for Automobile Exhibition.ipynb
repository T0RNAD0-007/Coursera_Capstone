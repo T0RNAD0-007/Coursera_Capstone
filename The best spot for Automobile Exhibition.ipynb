{
 "cells": [
  {
   "cell_type": "markdown",
   "metadata": {},
   "source": [
    "# Coursera Final Capstone\n",
    "## Finding best spot for Automobile Exhibition"
   ]
  },
  {
   "cell_type": "markdown",
   "metadata": {},
   "source": [
    "### Business Problem Statement\n",
    "<p>An automobile company established in the year 2015 worked hard to build a supercar. And now, after five years, they have ultimately completed experimenting with their car and got excellent results. Furthermore, they now are seeming ahead to launching their product so that the vehicle receives customer attention. The company administration has then picked some of the capitals for their demonstration given below:\n",
    "\n",
    "* Delhi, India<br>\n",
    "* Mumbai, India<br>\n",
    "* Bangalore, India<br>\n",
    "* Hyderabad, India<br>\n",
    "* Kolkata, India<br>\n",
    "* Pune, India<br>\n",
    "* Ahmedabad, India<br>\n",
    "\n",
    "Out of these capitals, we need to pick the most three suitable cities where wheels would get recognition and also need to locate the best place to demonstrate vehicles in the cities.\n",
    "</p>"
   ]
  },
  {
   "cell_type": "markdown",
   "metadata": {},
   "source": [
    "### Data Description\n",
    "For Solving this proplem we require data from various Sources as follows\n",
    "* Foursquare Location Data\n",
    "* Wikipedia\n",
    "This two are main."
   ]
  },
  {
   "cell_type": "code",
   "execution_count": null,
   "metadata": {},
   "outputs": [],
   "source": []
  }
 ],
 "metadata": {
  "kernelspec": {
   "display_name": "Python 3",
   "language": "python",
   "name": "python3"
  },
  "language_info": {
   "codemirror_mode": {
    "name": "ipython",
    "version": 3
   },
   "file_extension": ".py",
   "mimetype": "text/x-python",
   "name": "python",
   "nbconvert_exporter": "python",
   "pygments_lexer": "ipython3",
   "version": "3.8.3"
  }
 },
 "nbformat": 4,
 "nbformat_minor": 4
}
